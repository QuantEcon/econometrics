{
 "cells": [
  {
   "cell_type": "markdown",
   "metadata": {},
   "source": [
    "# Asymptotic analysis and consistency\n",
    "\n",
    "**Date: November 2016**\n",
    "\n",
    "In this notebook we discuss the consistency of decision rules. After a general introduction we restrict attention to empirical loss minimizing decision rules, establish sufficient conditions for consistency to hold and discuss the rate at which the convergence takes place.\n",
    "\n",
    " * Consistency of a decision rule states that the corresponding empirical loss converges to the true loss in probability as the sample size grows to infinity.\n",
    " \n",
    " * In the case of empirical loss minimization, consistency is tightly linked to the uniform law of large numbers that we present in detail.\n",
    " \n",
    " * We introduce tail and concentration bounds to establish the uniform law of large numbers and analyze the (non-asymptotic) rate at which the convergence takes place.\n",
    " "
   ]
  },
  {
   "cell_type": "markdown",
   "metadata": {},
   "source": [
    "## Introduction\n",
    "\n",
    "Knowing the true mechanism $P$, while one faces a decision problem $(\\mathcal{H},L,\\mathcal{A})$, naturally leads to the best in class action $a^{*}_{L, P, \\mathcal{A}}$ as the optimal action within the prespecified class $\\mathcal{A}$. Although in reality we do not know $P$, it is illuminating to consider this case first as we naturally require that at least with a sufficiently large (in fact, infinite) sample, the true mechanism---from a statistical point of view---can be revealed. The property that guarantees this outcome is the ergodicity of the assumed statistical models.  \n",
    "\n",
    "This argument suggests to use the best in class action, $a^{*}_{L, P, \\mathcal{A}}$, as the optimal large sample solution. In other words, from any sensible decision rule a minimal property to require is that as the sample size grows, the distribution of the decision rule converges to a degenerate distribution concentrated at the point $a^{*}_{L, P, \\mathcal{A}}$. \n",
    "\n",
    "As an example, consider again the MLE estimator in the coin tossing problem for which the above property is satisfied. The following figure represents how the different confidence bands associated with the distribution of the action evolve as the sample size goes to infinity. Apparently, for sufficiently large sample sizes, the confidence bands concentrate around the true value, which, due to the correct specification is equivalent to the best in class action.\n",
    "<!---\n",
    "<img src='./asymptotic_cointoss_consistency.png', width=800, height=600>\n",
    "--->\n",
    "![](./asymptotic_cointoss_consistency.png)\n"
   ]
  },
  {
   "cell_type": "markdown",
   "metadata": {},
   "source": [
    "This property of the decision rule is called **consistency**. One of the main objectives of this notebook is to investigate the conditions under which it can be established.   \n",
    "\n",
    "Given that asymptotically the true $P$ can be learned, a natural question to ask is why not to set $\\mathcal{A}$ large enough so as to guarantee $\\gamma(P)\\in\\mathcal{A}$, i.e. a correctly specified model. We will see the sense in which requiring consisteny ties our hands in terms of the \"size\" of $\\mathcal{A}$. \n",
    "\n",
    "Although it is hard to provide generally applicable sufficient conditions for consistency, roughly speaking, we can identify two big classes of decision rules for which powerful results are available.\n",
    "\n",
    "* Bayes decision rules \n",
    "* Frequentist decision rules building on the empirical distribution $P_n$, where \n",
    "\n",
    "$$P_n(z) : = \\frac{1}{n}\\sum_{i=1}^{n} \\mathbf{1}\\{Z_i \\leq z\\}$$\n",
    "\n",
    "and $\\mathbf{1}\\{ A \\}$ is the indicator function of the set $A$.\n",
    "\n",
    "In this notebook we will focus exclusively on the latter approach considering decision rules which assign actions based on minimizing the empirical analog of the population loss. Hence, the procedure is labelled by the name: *empirical loss minimization* or *analog estimation*.\n"
   ]
  },
  {
   "cell_type": "markdown",
   "metadata": {},
   "source": [
    "## Consistency of decision rules\n",
    "\n",
    "To start out our asymptotic inquiry, we first define consistency in a more precise manner than we did before. There are two, slightly different notions depending on the tractability and objectives of the decision problem at hand.  \n",
    "\n",
    "* **Consistency in terms of the loss function:** a decision rule, $d: \\mathcal{S} \\mapsto \\mathcal{A}$, is consistent in terms of the loss function relative to $(\\mathcal{H}, \\mathcal{A})$, if for all $P \\in \\mathcal{H}$,\n",
    "\n",
    "$$ L(P, d(Z^n)) \\ \\ \\underset{n \\to \\infty}{\\overset{\\text{P}}{\\rightarrow}} \\ \\ \\inf_{a \\in \\mathcal{A}}L(P, a) = L\\left(P, a^{*}_{L, P,\\mathcal{A}}\\right).$$\n",
    "\n",
    "* **Consistency in terms of the action:** a decision rule, $d: \\mathcal{S} \\mapsto \\mathcal{A}$, is consistent in terms of the action relative to $(\\mathcal{H}, \\mathcal{A})$, if for all $P \\in \\mathcal{H}$,\n",
    "\n",
    "$$ P\\left\\{z^{\\infty} \\big| \\lim_{n \\to \\infty} m\\left(d(z_n), a^*_{L, P, \\mathcal{A}}\\right) > \\epsilon\\right\\} = 0 \\quad \\text{for} \\quad \\forall\\epsilon>0, $$\n",
    "\n",
    "where $m(\\cdot, \\cdot)$ is a metric on the action space $\\mathcal{A}$. The necessary condition---in the case of analog estimators---for this notion of consistency is the identifiability of $a^*_{L, P, \\mathcal{A}}$ that we define as follows:\n",
    "\n",
    "**Identification:** $a^*_{L, P, \\mathcal{A}}$ is identified relative to $(P, \\mathcal{A})$ if $a^*_{L, P, \\mathcal{A}}$ is the unique minimizer of $L(P, \\cdot)$ over $\\mathcal{A}$.\n",
    "    \n",
    "Under identification, the two notions are equivalent. As the above definitions suggest, however, the former is more general to the extent that it also allows for partially identified statistical models. Unless otherwise noted, we will work with consistency in terms of the loss function and call it simply *consistency*.  \n",
    "\n",
    "In the above definitions, the set of assumed statistical models $\\mathcal{H}$ plays a key role: it outlines the set of distributions under which the particular notion of convergence is required. Ideally, we want convergence under the true distribution, however, because we do not know $P$, the \"robust\" approach is to be as agnostic as possible regarding $\\mathcal{H}$. The central insight of statstical decision theory is to highlight that this approach is not limitless: one needs to find a balance between $\\mathcal{H}$ and $\\mathcal{A}$ to obtain decision rules with favorable properties. \n",
    "\n",
    "Consistency has strong implications for the risk functional in large samples: the degenerate limiting distribution of the decision rule implies that asymptotically the variability of the decision rule vanishes and so\n",
    "\n",
    "$$ R_{\\infty}(P,d) \\overset{a.s.}{=} L\\left(P, a^{*}_{L, P,\\mathcal{A}}\\right). $$\n"
   ]
  },
  {
   "cell_type": "markdown",
   "metadata": {},
   "source": [
    "##  Uniform law of large numbers\n",
    "\n",
    "As mentioned before, in this notebook we are focusing on decision rules arising from empirical loss minimization. The basic idea behind this approach is to utilize the consistency definitions directly, but instead of using the quantity $L(P, a)$ that we cannot actually evaluate, subsitute the empirical distribution into the loss function and work with the empricial loss $L(P_n, a)$ instead.\n",
    "\n",
    "*Remark:* The empirical loss is not defined, if $P_n$ is not in the domain of $L$---as is the case, for example, with non-parametric density estimation. Then, one has to either extend the domain of $L$ or map $P_n$ to the original domain of the loss function $L$. An excellent discussion can be found in Manski (1988). \n",
    "\n",
    "Given that the loss function is continuous in its first argument, the law of large numbers (LLN), accompanied with the continuous mapping theorem, implies\n",
    "\n",
    "$$ L(P_n, a) \\quad  \\underset{n \\to \\infty}{\\to} \\quad L(P, a) $$\n",
    "\n",
    "that is, for a *fixed action* $a$, the emprical loss converges to the true loss as the sample size goes to infinity. Notice, however, that consistency \n",
    "\n",
    "- is not a property of a given action, but a whole decision rule, more precisely, it is about the convergence of the sequence $\\{d(z^n)\\}_{n\\geq 1} \\subseteq \\mathcal{A}$ \n",
    "- requires convergence to the *minimum* loss (within $\\mathcal{A}$) that we ought to take into account while generating decision rules \n",
    " \n",
    "In the spirit of the analogy principle, decision rules minimizing the *empirical loss* can be written as follows \n",
    "\n",
    "$$ d(z^n) := \\arg\\min_{a\\in\\mathcal{A}} L(P_n, a), $$\n",
    "\n",
    "where the dependence on the sample is embodied by the empirical distribution $P_n$. The heuristic idea is that because $d(z^n)$ minimizes $L(P_n, \\cdot)$, and $P_n$ converges to $P$, then \"ideally\" $d(z^n)$ should go to $a^{*}_{L, P, \\mathcal{A}}$, the minimizer of $L(P, a)$, as the sample size grows. \n",
    "\n",
    "What do we need to ensure this argument to hold? First, notice that the standard law of large numbers is inadequate for this purpose. In order to illustrate this, we turn now to a concept closely related to empirical loss minimization: generalization."
   ]
  },
  {
   "cell_type": "markdown",
   "metadata": {},
   "source": [
    "### Generalization\n",
    "\n",
    "Using the empirical loss as a substitute for the true loss while determining the decision rule, a critical question is how much error do we introduce with this approximation. The object of interest regarding this question is the *excess loss* for a given action $a$ and realization of the sample $z^n$\n",
    "\n",
    "$$ \\left| L(P_n, a) - L(P, a) \\right|. $$\n",
    "\n",
    "We say that the action $a$ **generalizes** well from a given sample $z^n$, if the corresponding excess loss is small. Taking the absolute value is important: $L(P_n, a)$ can easily be smaller than $L(P, a)$ as it is in the case of overfitting. \n",
    "\n",
    "Due to $P_n$'s dependence on the particular sample, however, the excess loss (for a given $a$) is a random variable. It might be small for a given sample $z^n$, but what we really need in order to justify the method of empricial loss minimization is that the excess loss is small for \"most samples\", or more precisely\n",
    "\n",
    "\n",
    "$$ P\\left(z^n : \\left| L(P_n, a) - L(P, a) \\right| > \\delta \\right) \\quad \\text{is small.} $$\n",
    "\n",
    "Since $L$ is continuous in its first argument and $P_n \\to P$, this so called **tail probability** converges to zero for any fixed $a\\in\\mathcal{A}$. The figure below displays such tail probabilities for the MLE estimator in the coin tossing example (with quadratic loss) for different actions as functions of the sample size.  \n",
    "\n",
    "One can see that even though the tail probabilities converge to $0$ for all $a\\in\\mathcal{A}$, the *rate of convergence* depends on the particular $a$. In other words, $\\forall \\varepsilon>0$ and $\\forall a\\in\\mathcal{A}$, there is an *action dependent* minimum sample size $N(a, \\varepsilon, \\delta)$, that we need in order to guarantee that the corresponding tail probability falls below $\\varepsilon$.  \n",
    "\n",
    "Suppose now that we have a decision rule and look at its induced sequence of actions $\\{a_n\\}_{n\\geq 1}$ for a fixed realization $z^{\\infty}$. Again, for consistency, we need the associated sequence of tail probabilities converging to zero for \"most $z^{\\infty}$\". \n",
    "\n",
    "* When the set $\\mathcal{A}$ has finitely many elements, this is not a problem: we can simply define\n",
    "\n",
    "$$N(\\varepsilon, \\delta) : = \\max_{a\\in\\mathcal{A}} N(a, \\varepsilon, \\delta)$$\n",
    "\n",
    "and observe that for all $n\\geq N(\\varepsilon, \\delta)$, the tail probabilities are smaller than $\\varepsilon$, for all $a\\in \\{a_n\\}_{n\\geq 1} \\subseteq \\mathcal{A}$.\n",
    " \n",
    "* However, because the critical sample size $N(a, \\varepsilon, \\delta)$ depends on the action, if $\\mathcal{A}$ is \"too big\", it is possible that there is no $n$ so that $n > N(a_n, \\varepsilon, \\delta)$, hence $L(P_n, a_n)$ may never approach $L(P, a_n)$.\n",
    "\n",
    "A possible approach to avoid this complication is to require the existence of an integer $N(\\varepsilon, \\delta)$ *independent of* $a$, such that for all sample sizes larger than $N(\\epsilon, \\delta)$ \n",
    "\n",
    "$$ \\lim_{n\\to \\infty} P\\left\\{\\sup_{a \\in\\mathcal{A}} \\left| L(P_n, a) - L(P, a) \\right| > \\delta\\right\\} = 0. $$\n",
    "\n",
    "This notion is called the **uniform law of large numbers** referring to the fact that the convergence is guaranteed simultaneously for all actions in $\\mathcal{A}$.\n",
    "<!---\n",
    "<img src='./asymptotic_cointoss_tail.png', width=800, height=600>\n",
    "--->\n",
    "![](./asymptotic_cointoss_tail.png)"
   ]
  },
  {
   "cell_type": "markdown",
   "metadata": {},
   "source": [
    "### A special case -- plug-in estimators\n",
    "\n",
    "There are special cases where we do not need to worry about uniformity. When the true loss function has a minimizer $a^{*}_{L, P, \\mathcal{A}}$ that admits a closed form in the sense that it can be expressed as a continuous function of $P$, the empirical loss minimizer is simply a sample analog of $a^{*}_{L, P, \\mathcal{A}}$. Effectively, there is no need to minimize the emprical loss, so in spirit, it is as if we kept a particular action fixed. In these cases the standard LLN is sufficient to establish consistency. \n",
    " \n",
    "* *Sample mean:* \n",
    "Consider the quadratic loss function with the feature $\\gamma(P) = E[Z]$, i.e. the loss is $L(P,a) = E[(a - E[Z])^2]$. Evidently, the minimizer of this quantity is $E[Z]$. Although we could proceed by minimizing the empricial loss to derive the decision rule, we do not need to do that, because we know up front that it is equal to the sample analog of $E[Z]$. The decision rule is the plug-in estimator $d(z^n) = \\frac{1}{n}\\sum_{i=1}^{n}z_i$.\n",
    "       \n",
    "* *OLS estimator:*\n",
    "Suppose that $Z=(Y, X)$ and consider the quadratic loss $L(P, a) = E[(Y-a)^2 | X]$, where $E[\\cdot | X]$ is the expectation operator conditioned on $X$. Assume that $(Y, X)$ follows a multivariate normal distribution, then the minimizer of $L$ is given by $a = E\\left[(X'X)^{-1}\\right]E[X'Y]$. Consequently, there is no need for explicit minimization, we can use the least squares estimator as a plug-in estimator for $a$.\n",
    "\n",
    "More generally, as the empirical loss minimizer is itself a functional, if the \"argmin\" functional can be shown to be continuous on the space of empirical loss functions, then an application of the continuous mapping theorem together with the Glivenko-Cantelli theorem (i.e. $\\lVert P_n - P \\rVert_{\\infty} \\to 0$) would yield consistency. For reference, see van der Vaart (2000).\n"
   ]
  },
  {
   "cell_type": "markdown",
   "metadata": {},
   "source": [
    "## Uniform law of large numbers and consistency\n",
    "\n",
    "In more general nonlinear models, however, $a^{*}_{L, P, \\mathcal{A}}$ has no analytical form, so we cannot avoid minimizing the empirical loss in order to derive the decision rule. In these cases, guaranteeing the validity of uniform convergence becomes essential. In fact, it can be shown that consistency of any decision rule that we derive by minimizing some empirical loss function, is *equivalent with* the uniform LLN. \n",
    "\n",
    "**Vapnik and Chervonenkis (1971)**: Uniform convergence \n",
    "$$ \\lim_{n\\to \\infty} P\\left\\{\\sup_{a \\in\\mathcal{A}} \\left| L(P_n, a) - L(P, a) \\right| < \\varepsilon\\right\\}= 1 $$\n",
    "\n",
    "for all $\\varepsilon >0$ is *necessary and sufficient* for consistency of decision rules arising from empirical loss minimization over $\\mathcal{A}$.\n",
    "\n",
    "Although this characterization of consistency is theoretically intriguing, it is not all that useful in practice unless we find easy-to-check conditions which ensure uniform convergence of empirical loss over a particular function class $\\mathcal{A}$. As a preparation to discuss these conditions, introduce first some notation\n",
    "\n",
    "Almost all loss functions used in practice can be cast in the following form. There exist \n",
    "\n",
    "* $l : \\mathcal{A}\\times Z \\mapsto R^{m}$ and \n",
    "* a *continuous* $r : R^{m} \\mapsto R_+$ such that\n",
    "    \n",
    "$$ L(P, a) = r\\left( \\int_Z l(a, z)dP (z)\\right) $$\n",
    "\n",
    "Continuity of $r$ implies that in order to establish consistency it is enough to investigate the properties of the limit \n",
    "\n",
    "$$ P\\left( \\sup_{a\\in\\mathcal{A}} \\left| \\int_Z l(a, z)dP_n (z) - \\int_Z l(a, z)dP(z)\\right| > \\varepsilon \\right) \\quad  \\underset{n \\to \\infty}{\\to} \\quad  0 \\quad\\quad \\forall \\varepsilon > 0$$ \n",
    "\n",
    "Formally, this requires that the class of functions $\\mathcal{L}_{\\mathcal{A}}:= \\left\\{l(a, \\cdot) : a \\in \\mathcal{A} \\right\\}$ is a **Glivenko-Cantelli class** for $P$."
   ]
  },
  {
   "cell_type": "markdown",
   "metadata": {},
   "source": [
    "---------------------\n",
    "\n",
    "**Definition (Glivenko-Cantelli class):** Let $\\mathcal{G}$ be a class of integrable real-valued functions of the random variable $Z$ having distribution $P$. Consider the random variable \n",
    "\n",
    "$$ \\Vert P_n - P \\Vert_{\\mathcal{G}} : = \\sup_{f\\in\\mathcal{G}} \\left| P_n g - Pg \\right| $$\n",
    "\n",
    "We say that $\\mathcal{G}$ is a Glivenko-Cantelli class for $P$, if $\\Vert P_n - P \\Vert_{\\mathcal{G}}$ converges to zero in probability as $n\\to\\infty$.\n",
    "\n",
    "-----------------\n",
    "\n",
    "A useful decomposition highlights the importance of the uniform law of large numbers in the case of empirical loss minimization. We would like to know the difference between the true loss of our estimator and the true loss of the best in class action. Denote the analog estimate as $\\hat{a} = d(z^n)$ and the best in class action as $a^*$.\n",
    "\n",
    "$$ Pl_{\\hat{a}} - Pl_{a^*} = (Pl_{\\hat{a}} - P_n l_{\\hat{a}}) + (P_n l_{\\hat{a}} - P_n l_{a^*})  + (P_n l_{a^*} - P l_{a^*}) $$\n",
    "\n",
    "The last term on the right hand side is governed by the Law of Large Numbers, the middle term is necessarily weakly positive by definition of the empirical loss minimizing decision rule, and the first term is governed by the Uniform Law of Large Numbers. Hence, if we want to control the excess risk -- the left hand side -- then we necessarily have to control the right hand side."
   ]
  },
  {
   "cell_type": "markdown",
   "metadata": {},
   "source": [
    "### Sufficient conditions for ULLN\n",
    "\n",
    "Variables of the form $\\Vert P_n - P \\Vert_{\\mathcal{G}}$ are ubiquitos in statistics and econometrics and there are well-known sufficient conditions that guarantee its convergence.\n",
    "\n",
    "For parametric estimation, probably the most widely used (at least in econometrics) sufficient condition includes the following three assumptions (or some form thereof). Suppose that the action space $\\mathcal{A}$ is indexed by a finite dimensional vector $\\theta\\in\\Theta \\subset \\mathbb{R}^{p}$. If\n",
    "\n",
    "  * $\\Theta$ is *compact*\n",
    "  * $l(\\theta, z)$ is a function such that $l(\\cdot, z)$ is *continuous* on $\\Theta$ with probability one\n",
    "  * $l(\\theta, z)$ is *dominated* by a function $B(z)$, i.e. $|l(\\theta, z)|\\leq B(z)$ for all $\\theta\\in\\Theta$, such that $\\mathbb{E}[B(Z)]<\\infty$\n",
    "\n",
    "then $\\mathcal{L}_{\\mathcal{A}} := \\left\\{l(a, \\cdot) : a \\in \\mathcal{A} \\right\\}$ is a Glivenko-Cantelli class for $P$ and so the estimator that it represents is consistent. Among others, these assumptions are the bases for consistency of the (Quasi-)Maximum Likelihood (White, 1994) and the Generalized Method of Moments estimators (Hansen, 1982).  \n",
    "\n",
    "A somewhat different approach focuses on the \"effective size\" of the class $\\mathcal{L}_{\\mathcal{A}}$ and frames sufficient conditions in terms of particular complexity measures such as the Rademacher complexity, Vapnik-Chervonenkis dimension, covering/packing numbers, etc. The idea is to find tail bounds for the probability that $\\Vert P_n - P \\Vert_{\\mathcal{L}_{\\mathcal{A}}}$ deviates substantially above the complexity of $\\mathcal{L}_{\\mathcal{A}}$. In the following section we present the main ideas behind the derivation of non-asymptotic tail bounds.\n",
    " \n",
    "**An interesting necessary condition:** If $\\mathcal{L}_{\\mathcal{A}}$ is a collection of indicator functions and the data generating process is assumed to be i.i.d., a necessary and sufficient condition for distribution free uniform convergence is that the Vapnik-Chervonenkis complexity of $\\mathcal{L}_{\\mathcal{A}}$ is finite.\n"
   ]
  },
  {
   "cell_type": "markdown",
   "metadata": {},
   "source": [
    "## Non-asymptotic bounds\n",
    "\n",
    "We saw that in order to establish consistency for analog estimators we had to establish uniform convergence of the empirical loss to the true loss over the entire action space. In this section, we present an approach to the laws of large numbers (uniform or \"standard\"), which builds on a finite sample perspective.\n",
    "\n",
    "For a given finite sample size, we study the concentration of the centered averages around their means. Ensuring that the centered average goes to a degenerate distribution on its mean---\"perfectly\" concentrates around it---will establish the law of large numbers.\n",
    "\n",
    "Studying concentration and tail bounds for each finite sample size has the advantage that we will get rates of convergence as a byproduct. The rate of convergence will give us information regarding the minimum sample size above which the asymptotic results are going to be good approximations.\n"
   ]
  },
  {
   "cell_type": "markdown",
   "metadata": {
    "collapsed": true
   },
   "source": [
    "### Tail and Concentration Bounds\n",
    "\n",
    "Throughout the section we should keep in mind the characterization of consistency in the case of analog estimators. This was equivalent to uniform convergence which we repeat here\n",
    "\n",
    "$$ P\\left( \\sup_{a\\in\\mathcal{A}} \\left| \\int_Z l(a, z)dP_n (z) - \\int_Z l(a, z)dP(z)\\right| > \\varepsilon \\right) \\quad  \\underset{n \\to \\infty}{\\to} \\quad  0 \\quad\\quad \\forall \\varepsilon > 0. $$\n",
    "\n",
    "For each action the loss is a just a (measurable) function of the random variable $Z$, $l_a(Z):=l(a, Z)$. Hence, we need to study the behavior of the empirical process indexed by the function class $\\mathcal{L}_{\\mathcal{A}}$\n",
    "\n",
    "Note, that $P_n l_a$ is a random variable because the empirical distribution is a function of the random sample. $Pl_a$ is just the expectation of $l_a(Z)$ and hence it is a non-random scalar. \n",
    "\n",
    "First, we study how the concentration measures work for a single random variable. This is going to parallel the law of large numbers. Second, we study concentration measures taking place uniformly over a class of random variables. This is going to parallel the uniform law of large numbers. For ease of notation we present the results for a general class of measurable functions $g \\in \\mathcal{G}$ -- but remember that in almost all applications we will substitute it for $\\mathcal{L}_{\\mathcal{A}}$. \n",
    "\n"
   ]
  },
  {
   "cell_type": "markdown",
   "metadata": {
    "collapsed": true
   },
   "source": [
    "### Markov's inequality\n",
    "\n",
    "Markov's inequality states that for any non-negative scalar random variable $Z$ and $t>0$ we have \n",
    "\n",
    "$$ P\\{Z \\geq t\\}\\leq \\frac{\\mathbb{E}[Z]}{t}. $$\n",
    "\n",
    "The idea behind this inequality is fairly simple and in fact it follows from the following obvious inequality \n",
    "\n",
    "$$ \\mathbf{1}\\{Z\\geq t\\}\\leq \\frac{Z}{t} $$\n",
    "\n",
    "illustrated by the figure below. Clearly, for any probability measure $P$ over $Z$ with a finite first moment Markov's inequality can be established.\n"
   ]
  },
  {
   "cell_type": "markdown",
   "metadata": {
    "collapsed": true
   },
   "source": [
    "It follows from Markov's inequality that for any strictly monotonically increasing non-negative function $\\phi$ and any random variable $Z$ (not necessarily non-negative) we have that\n",
    "\n",
    "$$ P\\{Z \\geq t\\} = P\\{\\phi(Z) \\geq \\phi(t)\\} \\leq \\frac{\\mathbb{E}[\\phi(Z)]}{\\phi(t)}. $$\n",
    "\n",
    "Taking the centered random variable $| Z - \\mathbb{E}[Z]|$ and $\\phi(x) = x^q$ for some $q>0$ leads to tail bounds expressed in terms of the moments of the random variable $Z$.\n",
    "\n",
    "$$ P\\{| Z - \\mathbb{E}[Z]| \\geq t\\} \\leq \\frac{\\mathbb{E}[| Z - \\mathbb{E}[Z]|^q]}{t^q}. $$\n",
    "\n",
    "Note that for $q = 2$, this form delivers the Chebyshev inequality (see the right panel of the Figure). This approach to bounding tail probabilities is quite general. Controlling higher order moments leads to (weakly) tighter bounds on the tail probabilities.\n",
    "<!---\n",
    "<img src='./asymptotic_markov_chebyshev.png', width=800, height=600>\n",
    "--->\n",
    "![](./asymptotic_markov_chebyshev.png)"
   ]
  },
  {
   "cell_type": "markdown",
   "metadata": {
    "collapsed": true
   },
   "source": [
    "### Chernoff bounds\n",
    "\n",
    "A related idea is at the core of the so called Chernoff bound. For that one takes the transformation $\\phi(x) = e^{\\lambda x}$ applied to the centered random variable $(Z - \\mathbb{E}[Z])$ which yields\n",
    "\n",
    "$$ P\\{(Z - \\mathbb{E}[Z]) \\geq t\\} \\leq \\frac{\\mathbb{E}\\left[e^{\\lambda(Z - \\mathbb{E}[Z])}\\right]}{e^{\\lambda t}}. $$\n",
    "\n",
    "Minimizing the bound over $\\lambda$ (provided the moments exist) would lead us to the Chernoff bound\n",
    "\n",
    "$$ \\log P\\{(Z - \\mathbb{E}[Z]) \\geq t\\} \\leq - \\sup_{\\lambda} \\left\\{\\lambda t - \\log \\mathbb{E}\\left[e^{\\lambda(Z - \\mathbb{E}[Z])}\\right]\\right\\} $$\n",
    "\n",
    "If the centered random variable is an iid sum of other random variables---as in the case of $(P_n g - P g)$---the Chernoff bound gains additional structure.\n"
   ]
  },
  {
   "cell_type": "markdown",
   "metadata": {},
   "source": [
    "### Hoeffding bounds\n",
    "\n",
    "Suppose first that the sample $z^n$ is generated by an iid process and recall that $(P_n g - P g) = \\frac{1}{n}\\sum_{i=1}^n g(Z_i) - \\mathbb{E}[g(Z)]$. Bounding the tails via Chernoff's method yields \n",
    "\n",
    "$$ P\\left\\{\\left(\\frac{1}{n}\\sum_{i=1}^n g(Z_i) - \\mathbb{E}[g(Z)]\\right) \\geq t\\right\\} \\leq \\frac{\\mathbb{E}\\left[e^{\\lambda \\frac{1}{n}\\sum_{i=1}^n \\left(g(Z_i) - \\mathbb{E}[g(Z)]\\right)}\\right]}{e^{\\lambda t}} = e^{-\\lambda t} \\prod_{i=1}^n \\mathbb{E}\\left[e^{\\lambda \\frac{1}{n}\\left(g(Z_i) - \\mathbb{E}[g(Z)] \\right)} \\right] $$\n",
    "\n",
    "where the equality follows from independece. Hence, the problem of deriving a tight bound boils down to bounding the moment generating function of \n",
    "\n",
    "$$ \\frac{1}{n}\\left(g(Z_i) - \\mathbb{E}[g(Z)] \\right). $$\n",
    "\n",
    "For our purposes a particularly important class of random variables are the so called sub-Gaussian variables.\n",
    "\n",
    "**Definition.** A random variable $Z$ is called sub-Gaussian if there is a positive number $\\sigma$ such that\n",
    "\n",
    "$$ \\mathbb{E}\\left[e^{\\lambda \\left(Z - \\mathbb{E}[Z] \\right)} \\right] \\leq e^{\\sigma^2\\lambda^2/2}$$\n",
    "\n",
    "for all $\\lambda \\in \\mathbb{R}$.\n",
    "\n",
    "Remark: A Guassian variable with variance $\\sigma^2$ is sub-Gaussian with parameter $\\sigma$. There are other non-Guassian random variables which are sub-Gaussian -- for example all bounded random variables, Rademacher variables\n",
    "\n",
    "**Theorem.** (Hoeffding) Let the variables $g(Z_i)$ be iid and sub-Gaussian with parameter $\\sigma$. Then, for all $t>0$ we have that\n",
    "\n",
    "$$P\\left\\{\\left|\\frac{1}{n}\\sum_{i=1}^n g(Z_i) - \\mathbb{E}[g(Z)]\\right| \\geq t\\right\\} \\leq 2\\exp\\left\\{-\\frac{t^2 n}{2\\sigma^2}\\right\\}.$$\n",
    "\n",
    "For a single random variable we see how the Hoeffding inequality is at the core of the law of large numbers. In fact it gives an exponential rate of convergence.\n",
    "\n",
    "However, in order to talk about concentration properties of decision rules, $d: \\mathcal{S}\\mapsto\\mathcal{A}$ we would like to make statements about tail probabilities uniformly over a class of actions---and hence uniformly across $\\mathcal{L}_{\\mathcal{A}}$. This leads us to uniform bounds.\n"
   ]
  },
  {
   "cell_type": "markdown",
   "metadata": {},
   "source": [
    "### Uniform Tail and Concentration Bounds for classes of finite cardinality\n",
    "\n",
    "As a first simple example we consider uniform tail bounds over sets of finite cardinality. Let $\\mathcal{G} = \\{g_j : j = 1, \\ldots, J\\}$. A conservative estimate of the uniform tail bound in this case is the union bound.\n",
    "\n",
    "**Corollary.** (Hoeffding union bound) Let the variables $\\{g_j(Z_i): j=1,\\ldots, J\\}$ be iid and sub-Gaussian with common parameter $\\sigma$. Then, for all $t > 0$ we have that\n",
    "\n",
    "$$ P\\left\\{\\sup_{g\\in\\mathcal{G}}\\left| \\frac{1}{n}\\sum_{i=1}^n g(Z_i) - \\mathbb{E}[g(Z)]\\right| \\geq t \\right\\} \\leq \\sum_{j = 1}^{J} P\\left\\{\\left|\\frac{1}{n}\\sum_{i=1}^n g_j(Z_i) - \\mathbb{E}[g_j(Z)]\\right| \\geq t \\right\\} \\leq J 2\\exp\\left\\{-\\frac{t^2 n}{2\\sigma^2}\\right\\}. $$\n",
    "\n",
    "The difference between the uniform and individual Hoeffding bounds is just a scaling factor, $J$. If there is only finitely many actions in $\\mathcal{A}$, then of course the function class $\\mathcal{L}_{\\mathcal{A}}$ has finite cardinality. Our objective, however, is to extend the above analysis to action spaces with infinite cardinality. To this end, we need to find a better \"measure\" of the size of a function space than its cardinality. Next, we introduce one such complexity measure which proves to be extremely useful in the case of characterizing tail bounds for analog estimators.\n"
   ]
  },
  {
   "cell_type": "markdown",
   "metadata": {},
   "source": [
    "## Uniform tail bounds for classes of infinite cardinality - Rademacher complexity\n",
    "\n",
    "In order to work with sets of infinitely many functions we would like to capture the size of these infinite sets for the purpose of statistical analysis. One such measure of statistical size is the Rademacher complexity of a class of real-valued functions.\n",
    "\n",
    "For a given realization of a sample, $z^n$, of size $n$ consider the the set of vectors\n",
    "\n",
    "$$\\mathcal{G}(z^n) := \\left\\{ (g(z_1), \\ldots, g(z_n)) \\in \\mathbb{R}^n \\mid g \\in \\mathcal{G} \\right\\}.$$\n",
    "\n",
    "This is the number of ways one can label points of a sample using functions in the class $\\mathcal{F}$. It is usually called the projection of the function class $\\mathcal{G}$ to the sample $z^n$. The **empirical Rademacher complexity of** $\\mathcal{G}$ for fixed $z^n$ is defined as\n",
    "\n",
    "$$R\\left(\\mathcal{G}(z^n) \\right) := \\mathbb{E}_{\\epsilon}\\left[\\sup_{g\\in \\mathcal{G}}\\Big| \\frac{1}{n}\\sum_{i=1}^n \\epsilon_i g(z_i) \\Big| \\right],$$\n",
    "\n",
    "where the expectation is taken with respect to the iid Rademacher random variables, $\\epsilon_i$ which take value in $\\{-1, 1\\}$ with equal probability.\n",
    "\n",
    "The **Rademacher complexity of** $\\mathcal{L}$ at sample size $n$ is defined as\n",
    "\n",
    "$$R_n\\left(\\mathcal{G}\\right) := \\mathbb{E}_{Z^n} \\Big[R\\left(\\mathcal{G}(z^n) \\right)\\Big].$$\n",
    "\n",
    "The Rademacher complexity has an intuitive interpretation. It is the average of the maximum correlations between the vectors $\\big(g(z_1), \\ldots, g(z_n)\\big)$ and the pure noise vector $\\big(\\epsilon(z_1), \\ldots, \\epsilon(z_n)\\big)$. The function class $\\mathcal{G}$ is too \"large\" for statistical purposes, if we can always choose a function, $g\\in\\mathcal{G}$ that has high correlation with a randomly drawn noise vector (Wainwright, 2015).\n"
   ]
  },
  {
   "cell_type": "markdown",
   "metadata": {},
   "source": [
    "### Illustration of Rademacher complexity\n",
    "\n",
    "In the following we consider two classes of functions. Although both classes can be parametrized by a *single* free parameter, we will see that one of them has drastically smaller Rademacher complexity than the other. \n",
    "\n",
    "#### Coin tossing example revisited\n",
    "\n",
    "Consider again the coin tossing example with the quadratic loss function discussed before. In this case $Z^n$ is an iid sample from a Binomial distribution parametrized with $p\\in[0, 1]$. The class of functions is given by the quadratic class\n",
    "\n",
    "$$ \\mathcal{L}_{\\mathcal{A}} := \\{l_a : l_a(z) = (z - a)^2, \\ \\  a \\in [0, 1]\\subseteq \\mathbb{R}\\} $$\n",
    "\n",
    "Below we see how the Rademacher compexity of $\\mathcal{L}_{\\mathcal{A}}$ converges to zero as the sample size grows to infinity.\n",
    "<!---\n",
    "<img src='./asymptotic_rademacher_cointoss.png', width=600, height=400>\n",
    "--->\n",
    "![](./asymptotic_rademacher_cointoss.png)"
   ]
  },
  {
   "cell_type": "markdown",
   "metadata": {},
   "source": [
    "#### Sinusoid classification\n",
    "\n",
    "Next, we consider a set of classifier functions where the classification boundary is given by a sine function.\n",
    "\n",
    "$$ \\mathcal{L}_{\\mathcal{A}} := \\Big\\{ \\mathbb{1}\\{sin(az) \\geq 0\\} - \\mathbb{1}\\{sin(az) < 0\\} : a \\in \\mathbb{R}_+ \\Big\\} $$\n",
    "\n",
    "For better illustration, in this case we consider the empirical Rademacher complexity for a fixed realization of the sample, $z^n$.\n",
    "\n",
    "*Remark:* In order to have a closed form solution for the optimal classifier we are selecting the sample at convenient points. This is without loss of generality and useful for illustrative purposes.\n",
    "<!---\n",
    "<img src='./asymptotic_rademacher_sinusoid.png', width=600, height=400>\n",
    "--->\n",
    "![](./asymptotic_rademacher_sinusoid.png)"
   ]
  },
  {
   "cell_type": "markdown",
   "metadata": {},
   "source": [
    "As we can see, by choosing a sufficiently high frequency we can always find a curve which classifies the data perfectly. Consequently, the Ramdemacher complexity always takes its maximum irrespective of the sample size. For statistical purposes the family of sine curves is too complex. This example highlights that for general non-linear functions the number of free parameters---here only one---does not correspond to the complexity of the functions class---which is infinity.\n"
   ]
  },
  {
   "cell_type": "markdown",
   "metadata": {},
   "source": [
    "### Uniform bounds using the Rademacher complexity\n",
    "\n",
    "With the introduced concepts we are in the position to present an important concentration inequality for classes of infinite cardinality.\n",
    "\n",
    "**Theorem:** For uniformly bounded functions $\\lvert g \\rvert_{\\infty} < B, \\ \\ \\forall g \\in\\mathcal{G}$ and for each $\\delta>0$ we have that\n",
    "\n",
    "$$ P \\Big\\{ \\Vert P_n - P \\Vert_{\\mathcal{G}} \\geq  2R_n(\\mathcal{G}) + \\delta \\Big\\} \\leq 2 \\exp\\Big\\{- \\frac{2 n \\delta^2}{B^2} \\Big\\}. $$\n",
    "\n",
    "and for the empirical Rademacher complexity\n",
    "\n",
    "$$ P\\Big\\{ \\Vert P_n - P \\Vert_{\\mathcal{G}} \\geq 2 R\\left(\\mathcal{G}(Z^n)\\right) + \\delta \\Big\\} \\leq 2 \\exp\\Big\\{-\\frac{n \\delta^2}{4 B^2} \\Big\\}. $$\n",
    "\n",
    "It is apparent from the above inequality that the tightness of the finite sample uniform bounds will be (partly) determined by the Rademacher complexity. The change in Rademacher complexity as the sample size grows will determine the (non-asymptotic) rate of convergence. Hence, if $R_n(\\mathcal{G}) = o(1)$ then $\\Vert P_n - P \\Vert_{\\mathcal{G}} \\to 0$ or put it differently, $\\mathcal{G}$ is Glivenko-Cantelli.\n",
    "\n",
    "Strongly related to the tail bounds one can bound the expectation of the supremum of an empirical process using Rademacher complexity. This is often called as symmetrization inequality.\n",
    "\n",
    "**Theorem:** For any class of $P$-integrable functon class $\\mathcal{G}$ we have that\n",
    "\n",
    "$$\\mathbb{E}_{Z^n}\\Big[\\Vert P_n - P \\Vert_{\\mathcal{G}} \\Big] \\leq 2R_n(\\mathcal{G}) = 2 \\mathbb{E}_{Z^n}\\Big[R\\left(\\mathcal{G}(Z^n)\\right)\\Big]. $$\n",
    "\n",
    "Unfortunately, computing the Rademacher complexity directly is only feasible in special cases. There are various techniques however, which give bounds on the Rademacher complexity. For different classes of functions different techniques prove useful, so one usually proceeds on a case-by-case basis. The most common ways of bounding the Rademacher complexity are via the *Vapnik-Chervonenkis dimension* for binary functions and via *metric entropy* for bounded real valued functions.\n",
    "\n"
   ]
  },
  {
   "cell_type": "markdown",
   "metadata": {
    "collapsed": true
   },
   "source": [
    "--------------------------------------\n",
    "### References\n",
    "\n",
    "Bousquet, O., Boucheron, S., & Lugosi, G. (2004). Introduction to statistical learning theory. In Advanced lectures on machine learning (pp. 169-207). Springer Berlin Heidelberg.\n",
    "\n",
    "Chervonenkis, A. and Vapnik, V. (1971). Theory of uniform convergence of frequencies of events to their probabilities and problems of search for an optimal solution from empirical data. Automation and Remote Control, 32, 207-217.\n",
    "\n",
    "Hansen, L. P. (1982). Large sample properties of generalized method of moments estimators. Econometrica: Journal of the Econometric Society, 1029-1054.\n",
    "\n",
    "Manski, C. F. (1988). Analog estimation methods in econometrics. Chapman and Hall.\n",
    "\n",
    "Van der Vaart, A. W. (2000). Asymptotic statistics (Vol. 3). Cambridge University Press.\n",
    "\n",
    "White, Halbert (1994), Estimation, Inference and Specification Analysis (Econometric Society Monographs). Cambridge University Press.\n"
   ]
  },
  {
   "cell_type": "markdown",
   "metadata": {
    "collapsed": true
   },
   "source": [
    "The code for the simulations and producing the graphs is found [here](./asymptotic_analysis_code.ipynb)."
   ]
  },
  {
   "cell_type": "code",
   "execution_count": null,
   "metadata": {
    "collapsed": true
   },
   "outputs": [],
   "source": []
  }
 ],
 "metadata": {
  "anaconda-cloud": {},
  "kernelspec": {
   "display_name": "Python [Root]",
   "language": "python",
   "name": "Python [Root]"
  },
  "language_info": {
   "codemirror_mode": {
    "name": "ipython",
    "version": 3
   },
   "file_extension": ".py",
   "mimetype": "text/x-python",
   "name": "python",
   "nbconvert_exporter": "python",
   "pygments_lexer": "ipython3",
   "version": "3.5.2"
  },
  "widgets": {
   "state": {
    "9b2e4299a68f457a8ab7093203dac637": {
     "views": [
      {
       "cell_index": 27
      }
     ]
    }
   },
   "version": "1.2.0"
  }
 },
 "nbformat": 4,
 "nbformat_minor": 0
}
